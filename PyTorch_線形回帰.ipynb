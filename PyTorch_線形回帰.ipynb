{
  "nbformat": 4,
  "nbformat_minor": 0,
  "metadata": {
    "colab": {
      "name": "PyTorch_線形回帰.ipynb",
      "provenance": [],
      "collapsed_sections": [],
      "toc_visible": true,
      "authorship_tag": "ABX9TyPAAMJAne3JHXeBdLoAHvzF",
      "include_colab_link": true
    },
    "kernelspec": {
      "name": "python3",
      "display_name": "Python 3"
    }
  },
  "cells": [
    {
      "cell_type": "markdown",
      "metadata": {
        "id": "view-in-github",
        "colab_type": "text"
      },
      "source": [
        "<a href=\"https://colab.research.google.com/github/evolution07770/ai/blob/main/PyTorch_%E7%B7%9A%E5%BD%A2%E5%9B%9E%E5%B8%B0.ipynb\" target=\"_parent\"><img src=\"https://colab.research.google.com/assets/colab-badge.svg\" alt=\"Open In Colab\"/></a>"
      ]
    },
    {
      "cell_type": "markdown",
      "metadata": {
        "id": "yGD-KOjW4tB2"
      },
      "source": [
        "#線形回帰モデル"
      ]
    },
    {
      "cell_type": "markdown",
      "metadata": {
        "id": "nVmE0g29AE2b"
      },
      "source": [
        "## from scratch\r\n",
        "\r\n",
        "---\r\n"
      ]
    },
    {
      "cell_type": "code",
      "metadata": {
        "id": "rVlbJYze11Vg"
      },
      "source": [
        "import torch\r\n",
        "\r\n",
        "#真の係数\r\n",
        "w_true = torch.Tensor([1,2,3])\r\n",
        "\r\n",
        "# Xのデータの準備、切片を回帰係数に含めるため、\r\n",
        "# Xの最初の次元に１を追加しておく\r\n",
        "X = torch.cat([torch.ones(100,1),torch.randn(100,2)], 1)\r\n",
        "\r\n",
        "# 真の係数と各Xとのない席を行列よベクトルの席でまとめて計算\r\n",
        "y = torch.mv(X, w_true) + torch.randn(100) * -0.5\r\n",
        "\r\n",
        "# 勾配降下で最適化するためのパラメータのTensorを\r\n",
        "# 乱数で初期化して作成\r\n",
        "w = torch.randn(3, requires_grad = True)\r\n",
        "\r\n",
        "#学習率\r\n",
        "gamma = 0.1\r\n",
        "\r\n",
        "# 損失関数のログ\r\n",
        "losses = []\r\n",
        "\r\n",
        "# 100回イテレーションを回す\r\n",
        "for epoc in range(100):\r\n",
        "  # 前回のbackwardメソッド計算された勾配の値を削除\r\n",
        "  w.grad = None\r\n",
        "\r\n",
        "  # 線形モデルでyの予測値を計算\r\n",
        "  y_pred = torch.mv(X, w)\r\n",
        "\r\n",
        "  # MSE lossとwによる微分を計算\r\n",
        "  loss = torch.mean((y - y_pred)**2)\r\n",
        "  loss.backward()\r\n",
        "\r\n",
        "  # 勾配を更新する\r\n",
        "  # wをそのまま代入して更新すると異なるTensorになって\r\n",
        "  # 計算グラフが破壊されてしまうのでdataだけを更新する\r\n",
        "  w.data = w.data - gamma * w.grad.data\r\n",
        "\r\n",
        "  #収束確認のためにlossを記録しておく\r\n",
        "  losses.append(loss.item())\r\n"
      ],
      "execution_count": null,
      "outputs": []
    },
    {
      "cell_type": "markdown",
      "metadata": {
        "id": "RgkH7EB6-02A"
      },
      "source": [
        "### 失関数の収束\r\n",
        "最適化が正しく行われたかどうかは、損失関数が収束しているかどうかで確認出来ます。\r\n"
      ]
    },
    {
      "cell_type": "code",
      "metadata": {
        "colab": {
          "base_uri": "https://localhost:8080/",
          "height": 282
        },
        "id": "9vPMk_HZ9pot",
        "outputId": "3cf7e756-69f7-495e-9692-c17bd25417cc"
      },
      "source": [
        "%matplotlib inline\r\n",
        "from matplotlib import pyplot as plt\r\n",
        "plt.plot(losses)\r\n"
      ],
      "execution_count": null,
      "outputs": [
        {
          "output_type": "execute_result",
          "data": {
            "text/plain": [
              "[<matplotlib.lines.Line2D at 0x7fca354da080>]"
            ]
          },
          "metadata": {
            "tags": []
          },
          "execution_count": 14
        },
        {
          "output_type": "display_data",
          "data": {
            "image/png": "[encoded data removed]",
            "text/plain": [
              "<Figure size 432x288 with 1 Axes>"
            ]
          },
          "metadata": {
            "tags": [],
            "needs_background": "light"
          }
        }
      ]
    },
    {
      "cell_type": "markdown",
      "metadata": {
        "id": "47A_R3lR_c_a"
      },
      "source": [
        "### 回帰係数の確認"
      ]
    },
    {
      "cell_type": "code",
      "metadata": {
        "colab": {
          "base_uri": "https://localhost:8080/"
        },
        "id": "-uPZNuM6_bap",
        "outputId": "cf504277-98f4-456d-ca73-298ac3079d6a"
      },
      "source": [
        "# 回帰係数の確認\r\n",
        "w"
      ],
      "execution_count": null,
      "outputs": [
        {
          "output_type": "execute_result",
          "data": {
            "text/plain": [
              "tensor([0.9893, 2.1106, 2.9980], requires_grad=True)"
            ]
          },
          "metadata": {
            "tags": []
          },
          "execution_count": 15
        }
      ]
    },
    {
      "cell_type": "markdown",
      "metadata": {
        "id": "cRoqVbtpAwXC"
      },
      "source": [
        "## NN、optimモジュールの使用\r\n",
        "\r\n",
        "\r\n",
        "---\r\n",
        "nn.Linearはその名の通り、線形結合を計算するためのクラスで、回帰係数や切片項などのパラメータを含んでいます。nn.Linearは、nn.Moduleのサブスクで、SGDなどのオプティマイザーと連携したり、学習結果のパラメータを保存したりするなど様々な機能を備えています。 nn.MSELossはその名の通りMSEを計算するためのクラスです。MSEくらいの単純な損失関数でしたら自分自身で書いてもたいした手間はかからないが、せっかくPyTorchにあるので使いましょう。\r\n"
      ]
    },
    {
      "cell_type": "code",
      "metadata": {
        "id": "exqOSqxZA9-C"
      },
      "source": [
        "from torch import nn, optim\r\n",
        "\r\n",
        "# Linear 層を作成。今回は切片項は回帰係数に含めるので\r\n",
        "# 入力の次元を３とし、bias（切片）をFalseにする\r\n",
        "net = nn.Linear(in_features=3, out_features=1, bias=False)\r\n",
        "\r\n",
        "# SGDのオプティマイザーに上で定義したネットワークの\r\n",
        "# パラメータを渡して初期化\r\n",
        "optimizer = optim.SGD(net.parameters(), lr=0.1)\r\n",
        "\r\n",
        "# MSE lossクラス\r\n",
        "loss_fn = nn.MSELoss()\r\n",
        "\r\n",
        "# 損失関数のログ\r\n",
        "losses_nn = []\r\n",
        "\r\n",
        "# 100回イテレーションを回す\r\n",
        "for epoc in range(100):\r\n",
        "  # 前回のbackwardメソッドで計算された勾配の値を削除\r\n",
        "  optimizer.zero_grad()\r\n",
        "\r\n",
        "  #\r\n",
        "  y_pred = net(X)\r\n",
        "\r\n",
        "  # \r\n",
        "  # \r\n",
        "  loss = loss_fn(y_pred.view_as(y), y)\r\n",
        "\r\n",
        "  #\r\n",
        "  loss.backward()\r\n",
        "\r\n",
        "  #\r\n",
        "  optimizer.step()\r\n",
        "\r\n",
        "  #\r\n",
        "  losses_nn.append(loss.item())\r\n"
      ],
      "execution_count": null,
      "outputs": []
    },
    {
      "cell_type": "code",
      "metadata": {
        "colab": {
          "base_uri": "https://localhost:8080/",
          "height": 282
        },
        "id": "1lokYxplKdGP",
        "outputId": "4de7a428-2352-4c0c-afaa-2db56e8b096c"
      },
      "source": [
        "%matplotlib inline\r\n",
        "from matplotlib import pyplot as plt\r\n",
        "plt.plot(losses_nn)"
      ],
      "execution_count": null,
      "outputs": [
        {
          "output_type": "execute_result",
          "data": {
            "text/plain": [
              "[<matplotlib.lines.Line2D at 0x7fca351edf28>]"
            ]
          },
          "metadata": {
            "tags": []
          },
          "execution_count": 27
        },
        {
          "output_type": "display_data",
          "data": {
            "image/png": "[encoded data removed]",
            "text/plain": [
              "<Figure size 432x288 with 1 Axes>"
            ]
          },
          "metadata": {
            "tags": [],
            "needs_background": "light"
          }
        }
      ]
    },
    {
      "cell_type": "code",
      "metadata": {
        "colab": {
          "base_uri": "https://localhost:8080/"
        },
        "id": "UEanwhoZK5N-",
        "outputId": "90ef62fa-6f7b-44ab-e7aa-161d38da5309"
      },
      "source": [
        "list(net.parameters())"
      ],
      "execution_count": null,
      "outputs": [
        {
          "output_type": "execute_result",
          "data": {
            "text/plain": [
              "[Parameter containing:\n",
              " tensor([[0.9893, 2.1106, 2.9980]], requires_grad=True)]"
            ]
          },
          "metadata": {
            "tags": []
          },
          "execution_count": 28
        }
      ]
    },
    {
      "cell_type": "markdown",
      "metadata": {
        "id": "67aLEDHdDSoV"
      },
      "source": [
        "### nn.MSELossの説明\r\n",
        "nn.MSELoss(size_average=None, reduce=None, reduction: str='mean') -> None\r\n",
        "\r\n",
        "Creates a criterion that measures the mean squared error (squared L2 norm) between\r\n",
        "each element in the input x and target y.\r\n",
        "\r\n",
        "The unreduced (i.e. with reduction set to 'none') loss can be described as:\r\n",
        "\r\n",
        "where N is the batch size. If reduction is not 'none'\r\n",
        "(default 'mean'), then:\r\n",
        "\r\n",
        "x and y are tensors of arbitrary shapes with a total\r\n",
        "of n elements each.\r\n",
        "\r\n",
        "The mean operation still operates over all the elements, and divides by n.\r\n",
        "\r\n",
        "The division by n can be avoided if one sets reduction = 'sum'.\r\n",
        "\r\n",
        "Args:\r\n",
        "    size_average (bool, optional): Deprecated (see reduction). By default,\r\n",
        "        the losses are averaged over each loss element in the batch. Note that for\r\n",
        "        some losses, there are multiple elements per sample. If the field size_average\r\n",
        "        is set to False, the losses are instead summed for each minibatch. Ignored\r\n",
        "        when reduce is False. Default: True\r\n",
        "    reduce (bool, optional): Deprecated (see reduction). By default, the\r\n",
        "        losses are averaged or summed over observations for each minibatch depending\r\n",
        "        on size_average. When reduce is False, returns a loss per\r\n",
        "        batch element instead and ignores size_average. Default: True\r\n",
        "    reduction (string, optional): Specifies the reduction to apply to the output:\r\n",
        "        'none' | 'mean' | 'sum'. 'none': no reduction will be applied,\r\n",
        "        'mean': the sum of the output will be divided by the number of\r\n",
        "        elements in the output, 'sum': the output will be summed. Note: size_average\r\n",
        "        and reduce are in the process of being deprecated, and in the meantime,\r\n",
        "        specifying either of those two args will override reduction. Default: 'mean'\r\n",
        "\r\n",
        "Shape:\r\n",
        "    - Input: (N, *) where * means, any number of additional\r\n",
        "      dimensions\r\n",
        "    - Target: (N, *), same shape as the input\r\n",
        "\r\n",
        "Examples:\r\n",
        "\r\n",
        ">>> loss = nn.MSELoss()\r\n",
        "\r\n",
        ">>> input = torch.randn(3, 5, requires_grad=True)\r\n",
        "\r\n",
        ">>> target = torch.randn(3, 5)\r\n",
        "\r\n",
        ">>> output = loss(input, target)\r\n",
        "\r\n",
        ">>> output.backward()\r\n",
        "\r\n",
        "**--翻訳**\r\n",
        "\r\n",
        "間の平均二乗誤差（二乗L2ノルム）を測定する基準を作成します\r\n",
        "入力xとターゲットyの各要素。\r\n",
        "\r\n",
        "削減されていない（つまり、削減が「なし」に設定されている）損失は、次のように説明できます。\r\n",
        "\r\n",
        "ここで、Nはバッチサイズです。削減が「なし」でない場合\r\n",
        "（デフォルトの「平均」）、次に：\r\n",
        "\r\n",
        "xとyは、合計で任意の形状のテンソルです。\r\n",
        "それぞれn個の要素の。\r\n",
        "\r\n",
        "平均演算は引き続きすべての要素で動作し、nで除算します。\r\n",
        "\r\n",
        "削減= '合計'を設定すると、nによる除算を回避できます。\r\n",
        "\r\n",
        "Args：\r\n",
        "    size_average（bool、オプション）：非推奨（削減を参照）。デフォルトでは、\r\n",
        "        損失は​​、バッチ内の各損失要素で平均化されます。のために注意してください\r\n",
        "        いくつかの損失、サンプルごとに複数の要素があります。フィールドsize_averageの場合\r\n",
        "        Falseに設定されている場合、損失はミニバッチごとに合計されます。無視されます\r\n",
        "        reduceがFalseの場合。デフォルト：True\r\n",
        "    reduce（bool、オプション）：非推奨（reductionを参照）。デフォルトでは、\r\n",
        "        損失は​​、各ミニバッチの観測値に応じて平均化または合計されます\r\n",
        "        size_averageで。 reduceがFalseの場合、\r\n",
        "        代わりにバッチ要素であり、size_averageを無視します。デフォルト：True\r\n",
        "    削減（文字列、オプション）：出力に適用する削減を指定します。\r\n",
        "        「なし」| 「平均」| '和'。 'none'：削減は適用されません。\r\n",
        "        「平均」：出力の合計は、の数で除算されます\r\n",
        "        出力の要素 'sum'：出力が合計されます。注：size_average\r\n",
        "        およびreduceは非推奨になる過程にあり、その間、\r\n",
        "        これらの2つの引数のいずれかを指定すると、削減が上書きされます。デフォルト：「平均」\r\n",
        "\r\n",
        "形状：\r\n",
        "    -入力：（N、*）ここで、*は、任意の数の追加を意味します\r\n",
        "      寸法\r\n",
        "    -ターゲット：（N、*）、入力と同じ形状\r\n",
        "\r\n"
      ]
    }
  ]
}