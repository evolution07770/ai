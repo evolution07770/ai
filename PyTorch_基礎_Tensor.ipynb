{
  "nbformat": 4,
  "nbformat_minor": 0,
  "metadata": {
    "colab": {
      "name": "PyTorch_基礎_Tensor.ipynb",
      "provenance": [],
      "collapsed_sections": [],
      "toc_visible": true,
      "authorship_tag": "ABX9TyNl2h07yq/pwVUpq22Fahtx",
      "include_colab_link": true
    },
    "kernelspec": {
      "name": "python3",
      "display_name": "Python 3"
    },
    "accelerator": "GPU"
  },
  "cells": [
    {
      "cell_type": "markdown",
      "metadata": {
        "id": "view-in-github",
        "colab_type": "text"
      },
      "source": [
        "<a href=\"https://colab.research.google.com/github/evolution07770/ai/blob/main/PyTorch_%E5%9F%BA%E7%A4%8E_Tensor.ipynb\" target=\"_parent\"><img src=\"https://colab.research.google.com/assets/colab-badge.svg\" alt=\"Open In Colab\"/></a>"
      ]
    },
    {
      "cell_type": "markdown",
      "metadata": {
        "id": "SOhGoIGcA9Jc"
      },
      "source": [
        "# Tensorの生成と変換\r\n",
        "\r\n",
        "参考：\r\n",
        "https://colab.research.google.com/github/DeepInsider/playground-data/blob/master/docs/articles/pytorch_neuralnetwork.ipynb"
      ]
    },
    {
      "cell_type": "markdown",
      "metadata": {
        "id": "NZuUH5DuIMKa"
      },
      "source": [
        "## CPU→GPUの切り替え\r\n",
        "\r\n",
        "メニュバーの＜ランタイム＞→＜ランタイムのタイプを変更＞\r\n",
        "\r\n",
        "・ハードウェアのアクセラレータを変更する"
      ]
    },
    {
      "cell_type": "code",
      "metadata": {
        "colab": {
          "base_uri": "https://localhost:8080/"
        },
        "id": "FoWkezN-FTOR",
        "outputId": "0bfc7989-756f-4bad-df31-10c0df1ba58e"
      },
      "source": [
        "import torch\r\n",
        "torch.cuda.is_available()"
      ],
      "execution_count": null,
      "outputs": [
        {
          "output_type": "execute_result",
          "data": {
            "text/plain": [
              "True"
            ]
          },
          "metadata": {
            "tags": []
          },
          "execution_count": 1
        }
      ]
    },
    {
      "cell_type": "code",
      "metadata": {
        "colab": {
          "base_uri": "https://localhost:8080/"
        },
        "id": "OLxO4ktZFcAb",
        "outputId": "fbcaec00-f692-4fb3-f799-0df833224796"
      },
      "source": [
        "print(torch.__version__)"
      ],
      "execution_count": null,
      "outputs": [
        {
          "output_type": "stream",
          "text": [
            "1.7.0+cu101\n"
          ],
          "name": "stdout"
        }
      ]
    },
    {
      "cell_type": "code",
      "metadata": {
        "colab": {
          "base_uri": "https://localhost:8080/"
        },
        "id": "MwBzFi70A0m4",
        "outputId": "31f5bd06-31fc-4865-8e57-5591760ddcf9"
      },
      "source": [
        "import numpy as np\r\n",
        "import torch\r\n",
        "\r\n",
        "# 入れ子のListを私k手作成\r\n",
        "t = torch.tensor([[1,2],[3,4.]])\r\n",
        "\r\n",
        "# deviceを指定することでGPUにTensorを作成する\r\n",
        "t = torch.tensor([[1,2],[3,4.]], device=\"cuda:0\")\r\n",
        "\r\n",
        "# dtypeを指定することで、倍精度のTensorを作る\r\n",
        "t = torch.tensor([[1,2],[3,4.]], dtype=torch.float64)\r\n",
        "\r\n",
        "# 0から9までの数値で初期化された1次元のTensor\r\n",
        "t = torch.arange(0, 10)\r\n",
        "\r\n",
        "# \r\n",
        "t = torch.zeros(100, 10).to(\"cuda:0\")\r\n",
        "\r\n",
        "#\r\n",
        "t.size()"
      ],
      "execution_count": null,
      "outputs": [
        {
          "output_type": "execute_result",
          "data": {
            "text/plain": [
              "torch.Size([100, 10])"
            ]
          },
          "metadata": {
            "tags": []
          },
          "execution_count": 3
        }
      ]
    }
  ]
}